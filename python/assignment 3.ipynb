{
 "cells": [
  {
   "cell_type": "code",
   "execution_count": 3,
   "metadata": {},
   "outputs": [
    {
     "name": "stdout",
     "output_type": "stream",
     "text": [
      "25 15\n"
     ]
    }
   ],
   "source": [
    "#Q1.Write a function calculation() such that it can accept twovariables as arguments and calculate the addition andsubtraction of it. And also it must return both addition andsubtraction in a single return call\n",
    "\n",
    "def calculation(number1,number2):\n",
    "    sum = number1+number2\n",
    "    diff = number1-number2\n",
    "    return sum,diff\n",
    "sum,diff = calculation(20,5)\n",
    "print(sum,diff)"
   ]
  },
  {
   "cell_type": "code",
   "execution_count": 5,
   "metadata": {},
   "outputs": [
    {
     "name": "stdout",
     "output_type": "stream",
     "text": [
      "name : John salary : 6500\n",
      "name : John salary : 9000\n"
     ]
    }
   ],
   "source": [
    "#Q2.Create a function showEmployee() in such a way that it\n",
    "#should accept employee name, and it’s salary and display both,\n",
    "#and if the salary is missing in function call it should show it as\n",
    "#9000\n",
    "\n",
    "def showEmployee(n,s=9000):\n",
    "    print(\"name :\",n,\"salary :\",s)\n",
    "r1=showEmployee(\"John\",6500)\n",
    "r2=showEmployee(\"John\")"
   ]
  },
  {
   "cell_type": "code",
   "execution_count": 6,
   "metadata": {},
   "outputs": [
    {
     "name": "stdout",
     "output_type": "stream",
     "text": [
      "awesome\n",
      "{'a': 1, 'w': 1, 'e': 2, 's': 1, 'o': 1, 'm': 1}\n"
     ]
    }
   ],
   "source": [
    "#Q3.Write a function called multipleLetterCount. This function\n",
    "#takes in one parameter (a string) and returns a dictionary with the\n",
    "#keys being the letters and the value being the count of the letter.\n",
    "# Example output:\n",
    "# multipleLetterCount('awesome')\n",
    "\n",
    "dic={}\n",
    "def multipleLetterCount(w):\n",
    "    print(w)\n",
    "    for i in w:\n",
    "        if i in dic:\n",
    "            dic[i]+=1\n",
    "        else:\n",
    "            dic[i]=1\n",
    "    return dic\n",
    "r=multipleLetterCount(\"awesome\")\n",
    "print(r)\n"
   ]
  }
 ],
 "metadata": {
  "kernelspec": {
   "display_name": "Python 3",
   "language": "python",
   "name": "python3"
  },
  "language_info": {
   "codemirror_mode": {
    "name": "ipython",
    "version": 3
   },
   "file_extension": ".py",
   "mimetype": "text/x-python",
   "name": "python",
   "nbconvert_exporter": "python",
   "pygments_lexer": "ipython3",
   "version": "3.8.3"
  }
 },
 "nbformat": 4,
 "nbformat_minor": 4
}
