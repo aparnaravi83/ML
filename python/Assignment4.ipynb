{
 "cells": [
  {
   "cell_type": "code",
   "execution_count": 1,
   "metadata": {},
   "outputs": [],
   "source": [
    "#Q1 : create a txt file, enter multiple lines of text. read this file line by line and store\n",
    "#it into a list. Apply exception handling technique"
   ]
  },
  {
   "cell_type": "code",
   "execution_count": 2,
   "metadata": {},
   "outputs": [
    {
     "name": "stdout",
     "output_type": "stream",
     "text": [
      "Writing ass3.txt\n"
     ]
    }
   ],
   "source": [
    "%%writefile ass3.txt\n",
    "mesce\n",
    "kuttipuram\n",
    "mca"
   ]
  },
  {
   "cell_type": "code",
   "execution_count": 4,
   "metadata": {},
   "outputs": [
    {
     "name": "stdout",
     "output_type": "stream",
     "text": [
      "['mesce\\n', 'kuttipuram\\n', 'mca\\n']\n",
      "stored successfully\n"
     ]
    }
   ],
   "source": [
    "try:\n",
    "    myfile2=open(\"ass3.txt\")\n",
    "except Exception as err1:\n",
    "    print(\"error occurred\",err1)\n",
    "else:\n",
    "    myfile2.seek(0)\n",
    "    s=myfile2.readlines()\n",
    "    l=[]\n",
    "    for i in s:\n",
    "        l.append(i)\n",
    "    print(l)\n",
    "finally:\n",
    "    print(\"stored successfully\")"
   ]
  },
  {
   "cell_type": "code",
   "execution_count": 7,
   "metadata": {},
   "outputs": [
    {
     "name": "stdout",
     "output_type": "stream",
     "text": [
      "Red\n",
      "Green\n",
      "White\n",
      "Black\n",
      "Pink\n",
      "Yellow\n",
      "\n",
      "completed\n"
     ]
    }
   ],
   "source": [
    "#Q2: Write a Python program to write below list content to a file. Apply exception\n",
    "#handling technique\n",
    "#color = ['Red', 'Green', 'White', 'Black', 'Pink', 'Yellow']\n",
    "color = ['Red', 'Green', 'White', 'Black', 'Pink', 'Yellow']\n",
    "try:\n",
    "    myfile1=open(\"file1.txt\",\"w+\")\n",
    "    for i in color:\n",
    "        myfile1.writelines(i+\"\\n\")\n",
    "except Exception as error:\n",
    "    print(\"error occurred\",error)\n",
    "else:\n",
    "    myfile1.seek(0)\n",
    "    print(myfile1.read())\n",
    "finally:\n",
    "    print(\"completed\")"
   ]
  },
  {
   "cell_type": "code",
   "execution_count": 8,
   "metadata": {},
   "outputs": [],
   "source": [
    "#Q3 : create a txt file, enter multiple lines of text. remove newline characters from\n",
    "#created file and print as a list. Apply exception handling techniques wherever\n",
    "#possible"
   ]
  },
  {
   "cell_type": "code",
   "execution_count": 9,
   "metadata": {},
   "outputs": [
    {
     "name": "stdout",
     "output_type": "stream",
     "text": [
      "Writing second.txt\n"
     ]
    }
   ],
   "source": [
    "%%writefile second.txt\n",
    "red\n",
    "blue\n",
    "green"
   ]
  },
  {
   "cell_type": "code",
   "execution_count": 11,
   "metadata": {},
   "outputs": [
    {
     "name": "stdout",
     "output_type": "stream",
     "text": [
      "['red', 'blue', 'green']\n",
      "task overcome\n"
     ]
    }
   ],
   "source": [
    "try:\n",
    "    file1=open(\"second.txt\")\n",
    "except Exception as error:\n",
    "    print(\"error occurred\",error)\n",
    "else:\n",
    "    l=[]\n",
    "    file1.seek(0)\n",
    "    f=file1.readlines()\n",
    "    for i in f:\n",
    "        l.append(i.strip())\n",
    "    print(l)\n",
    "finally:\n",
    "    print(\"task overcome\")"
   ]
  },
  {
   "cell_type": "code",
   "execution_count": 12,
   "metadata": {},
   "outputs": [],
   "source": [
    "#Q4 : create a testfile1.txt file, enter multiple lines of text . Now copy contents of\n",
    "#testfile1.txt to new file testfile22.txt. Apply exception handling techniques\n",
    "#wherever possible"
   ]
  },
  {
   "cell_type": "code",
   "execution_count": 13,
   "metadata": {},
   "outputs": [
    {
     "name": "stdout",
     "output_type": "stream",
     "text": [
      "Writing test.txt\n"
     ]
    }
   ],
   "source": [
    "%%writefile test.txt\n",
    "cat\n",
    "dog \n",
    "deer"
   ]
  },
  {
   "cell_type": "code",
   "execution_count": 16,
   "metadata": {},
   "outputs": [
    {
     "name": "stdout",
     "output_type": "stream",
     "text": [
      "cat\n",
      "dog \n",
      "deer\n",
      "\n",
      "completed\n"
     ]
    }
   ],
   "source": [
    "try:\n",
    "    file5=open(\"test.txt\")\n",
    "    file5.seek(0)\n",
    "    f=file5.read()\n",
    "except Exception as error:\n",
    "    print(\"file not found\",error)\n",
    "else:\n",
    "    try:\n",
    "        file6=open(\"test1.txt\",\"w+\")\n",
    "        file6.write(f)\n",
    "        file6.seek(0)\n",
    "        print(file6.read())\n",
    "    except Exception as error:\n",
    "        print(\"problem occured\",error)\n",
    "finally:\n",
    "    print(\"completed\")"
   ]
  }
 ],
 "metadata": {
  "kernelspec": {
   "display_name": "Python 3",
   "language": "python",
   "name": "python3"
  },
  "language_info": {
   "codemirror_mode": {
    "name": "ipython",
    "version": 3
   },
   "file_extension": ".py",
   "mimetype": "text/x-python",
   "name": "python",
   "nbconvert_exporter": "python",
   "pygments_lexer": "ipython3",
   "version": "3.8.3"
  }
 },
 "nbformat": 4,
 "nbformat_minor": 4
}
