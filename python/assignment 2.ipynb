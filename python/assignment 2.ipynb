{
 "cells": [
  {
   "cell_type": "code",
   "execution_count": 4,
   "metadata": {},
   "outputs": [
    {
     "name": "stdout",
     "output_type": "stream",
     "text": [
      "tuple1 =  (11, [222, 33], 44, 55)\n"
     ]
    }
   ],
   "source": [
    "#Q1.modify the first item(22) of a list inside a following tuple to 222\n",
    "#tuple1 = (11, [22, 33], 44, 55)\n",
    "tuple1 = (11, [22, 33], 44, 55)\n",
    "new=222\n",
    "tuple1 = (11, [new, 33], 44, 55)\n",
    "print(\"tuple1 = \",tuple1)"
   ]
  },
  {
   "cell_type": "code",
   "execution_count": 6,
   "metadata": {},
   "outputs": [
    {
     "name": "stdout",
     "output_type": "stream",
     "text": [
      "enter the element to count number of occurrence :50\n",
      "Number of occurrence of  50 is 2\n"
     ]
    }
   ],
   "source": [
    "#Q2.count the number of occurrences of item 50 from a tuple\n",
    "#tuple1 = (50, 10, 60, 70, 50)\n",
    "tuple1=(50, 10, 60, 70, 50)\n",
    "n=int(input(\"enter the element to count number of occurrence :\"))\n",
    "c=0\n",
    "for i in tuple1:\n",
    "    if(i == n):\n",
    "        c = c + 1\n",
    "print(\"Number of occurrence of \" ,n,\"is\" ,c)        \n",
    "    "
   ]
  },
  {
   "cell_type": "code",
   "execution_count": 8,
   "metadata": {},
   "outputs": [
    {
     "name": "stdout",
     "output_type": "stream",
     "text": [
      "list =  [10, 20, 30, 40, 50]\n",
      "tuple1 =  (10, 20, 30, 40, 50)\n"
     ]
    }
   ],
   "source": [
    "#Q3.write a python program to convert a list  to a tuple\n",
    "list1=[10, 20, 30, 40, 50]\n",
    "print(\"list = \",list1)\n",
    "tuple1=tuple(list1)\n",
    "print(\"tuple1 = \",tuple1)"
   ]
  },
  {
   "cell_type": "code",
   "execution_count": 8,
   "metadata": {},
   "outputs": [
    {
     "data": {
      "text/plain": [
       "{10, 20, 30, 40, 50, 60, 70}"
      ]
     },
     "execution_count": 8,
     "metadata": {},
     "output_type": "execute_result"
    }
   ],
   "source": [
    "#Q4.returns a new set with all items from both sets by removing duplicates\n",
    "#set1={10, 20, 30, 40, 50}\n",
    "#set2={30, 40, 50, 60, 70}\n",
    "set1 = {10, 20, 30, 40, 50}\n",
    "set2 = {30, 40, 50, 60, 70}\n",
    "set3 = set(set1) | set(set2)\n",
    "set3"
   ]
  },
  {
   "cell_type": "code",
   "execution_count": 21,
   "metadata": {},
   "outputs": [
    {
     "name": "stdout",
     "output_type": "stream",
     "text": [
      "{'Ten': 10, 'Twenty': 20, 'Thirty': 30, 'Fourty': 40, 'Fifty': 50}\n"
     ]
    }
   ],
   "source": [
    "#Q5.merge following two python dictionaries into one\n",
    "#dict1={'Ten': 10, 'Twenty': 20, 'Thirty': 30}\n",
    "#dict2={'Thirty': 30, 'Fourty': 40, 'Fifty': 50}\n",
    "def Merge(dict1,dict2):\n",
    "    res = {**dict1 , **dict2}\n",
    "    return res\n",
    "dict1 = {'Ten': 10, 'Twenty': 20, 'Thirty': 30}\n",
    "dict2 = {'Thirty': 30, 'Fourty': 40, 'Fifty': 50}\n",
    "dict3=Merge(dict1,dict2)\n",
    "print(dict3)"
   ]
  },
  {
   "cell_type": "code",
   "execution_count": 10,
   "metadata": {},
   "outputs": [
    {
     "name": "stdout",
     "output_type": "stream",
     "text": [
      "{'emp1': {'name': 'Jhon', 'salary': 7500}, 'emp2': {'name': 'Emma', 'salary': 8000}, 'emp3': {'name': 'Brad', 'salary': 8500}}\n"
     ]
    }
   ],
   "source": [
    "#Q6.Given a python dictionary, change Brad's salary to 8500\n",
    "#sampleDict = {\n",
    "#'emp1': {'name' : 'Jhon' ,'salary': 7500},\n",
    "#'emp2': {'name' : 'Emma' ,'salary': 8000},\n",
    "#'emp3': {'name' : 'Brad' ,'salary': 6500}\n",
    "#}\n",
    "\n",
    "sampleDict = {\n",
    "   'emp1': {'name' : 'Jhon' ,'salary': 7500},\n",
    "   'emp2': {'name' : 'Emma' ,'salary': 8000},\n",
    "   'emp3': {'name' : 'Brad' ,'salary': 6500}\n",
    "}\n",
    "sampleDict['emp3']['salary']=8500\n",
    "print(sampleDict)\n",
    "\n"
   ]
  },
  {
   "cell_type": "code",
   "execution_count": 11,
   "metadata": {},
   "outputs": [
    {
     "data": {
      "text/plain": [
       "{'name': 'kelly', 'age': 25, 'salary': 8000, 'location': 'New york'}"
      ]
     },
     "execution_count": 11,
     "metadata": {},
     "output_type": "execute_result"
    }
   ],
   "source": [
    "#Q7.Rename key city to location in the following dictionary\n",
    "#sampleDict ={\n",
    "#\"name\":\"kelly\",\n",
    "#\"age\":25,\n",
    "#\"salary\":8000,\n",
    "#\"city\":\"New york\"\n",
    "#}\n",
    "\n",
    "sampleDict ={\n",
    "  \"name\":\"kelly\",\n",
    "  \"age\":25,\n",
    "  \"salary\":8000,\n",
    "  \"city\":\"New york\"\n",
    "}\n",
    "sampleDict.pop(\"city\")\n",
    "sampleDict[\"location\"]=\"New york\"\n",
    "sampleDict"
   ]
  }
 ],
 "metadata": {
  "kernelspec": {
   "display_name": "Python 3",
   "language": "python",
   "name": "python3"
  },
  "language_info": {
   "codemirror_mode": {
    "name": "ipython",
    "version": 3
   },
   "file_extension": ".py",
   "mimetype": "text/x-python",
   "name": "python",
   "nbconvert_exporter": "python",
   "pygments_lexer": "ipython3",
   "version": "3.8.3"
  }
 },
 "nbformat": 4,
 "nbformat_minor": 4
}
