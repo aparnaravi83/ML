{
 "cells": [
  {
   "cell_type": "code",
   "execution_count": 1,
   "metadata": {},
   "outputs": [
    {
     "name": "stdout",
     "output_type": "stream",
     "text": [
      "Enter the string :character\n",
      "Middle characters are:  rac\n"
     ]
    }
   ],
   "source": [
    "#Q1.input a string of odd length (minimum 9 characters),print a string made of the 3 middle characters from input string\n",
    "odd_string=input(\"Enter the string :\")\n",
    "middle=odd_string[(len(odd_string)-3)//2:(len(odd_string)+3)//2]\n",
    "print(\"Middle characters are: \",middle)"
   ]
  },
  {
   "cell_type": "code",
   "execution_count": 2,
   "metadata": {},
   "outputs": [
    {
     "name": "stdout",
     "output_type": "stream",
     "text": [
      "Enter a number5\n",
      "Sum =  15\n",
      "Average =  3.0\n"
     ]
    }
   ],
   "source": [
    "#Q2.calculate the sum and average of first n natural numbers\n",
    "#a.using for loop\n",
    "number=int(input(\"Enter a number\"))\n",
    "sum=0\n",
    "\n",
    "for n in range(1,number+1):\n",
    "    sum=sum+n\n",
    "    \n",
    "average=sum/number\n",
    "print(\"Sum = \",sum)\n",
    "print(\"Average = \",average)"
   ]
  },
  {
   "cell_type": "code",
   "execution_count": 3,
   "metadata": {},
   "outputs": [
    {
     "name": "stdout",
     "output_type": "stream",
     "text": [
      "Enter a number10\n",
      "Sum =  55\n",
      "Average =  5.5\n"
     ]
    }
   ],
   "source": [
    "#b.using while loop\n",
    "number=int(input(\"Enter a number\"))\n",
    "sum=0\n",
    "n=1\n",
    "\n",
    "while(n<=number):\n",
    "    sum=sum+n\n",
    "    n=n+1\n",
    "    \n",
    "average=sum/number\n",
    "print(\"Sum = \",sum)\n",
    "print(\"Average = \",average)"
   ]
  },
  {
   "cell_type": "code",
   "execution_count": 4,
   "metadata": {},
   "outputs": [
    {
     "name": "stdout",
     "output_type": "stream",
     "text": [
      "1.2 2.4 3.6 4.8 5.9\n",
      "[1.2, 2.4, 3.6, 4.8, 5.9]\n"
     ]
    }
   ],
   "source": [
    "#Q3.Accept list of 5 float numbers as input from user using loop and store values in a list\n",
    "values=[float(i) for i in input().split()]\n",
    "print(list(values))"
   ]
  },
  {
   "cell_type": "code",
   "execution_count": 5,
   "metadata": {},
   "outputs": [
    {
     "name": "stdout",
     "output_type": "stream",
     "text": [
      "1 \n",
      "1 2 \n",
      "1 2 3 \n",
      "1 2 3 4 \n",
      "1 2 3 4 5 \n"
     ]
    }
   ],
   "source": [
    "#Q4.print the following pattern\n",
    "#a.\n",
    "rows = 5\n",
    "for row in range(1, rows+1):\n",
    "    for column in range(1, row+1):\n",
    "        print(column, end=' ')\n",
    "    print(\"\")"
   ]
  },
  {
   "cell_type": "code",
   "execution_count": 6,
   "metadata": {},
   "outputs": [
    {
     "name": "stdout",
     "output_type": "stream",
     "text": [
      "5 4 3 2 1 \n",
      "4 3 2 1 \n",
      "3 2 1 \n",
      "2 1 \n",
      "1 \n",
      "\n"
     ]
    }
   ],
   "source": [
    "#b.\n",
    "rows = 5\n",
    "for i in range(0, rows+1):\n",
    "    for j in range(rows-i, 0, -1):\n",
    "        print(j, end=' ')\n",
    "    print()"
   ]
  },
  {
   "cell_type": "code",
   "execution_count": 8,
   "metadata": {},
   "outputs": [
    {
     "name": "stdout",
     "output_type": "stream",
     "text": [
      "Enter a number :13445\n",
      "The number of digits are:  5\n"
     ]
    }
   ],
   "source": [
    "#Q5.input a number, count and print the total number of digits in that number using while loop\n",
    "number=int(input(\"Enter a number :\"))\n",
    "count=0\n",
    "while(number>0):\n",
    "    count=count+1\n",
    "    number=number//10\n",
    "print(\"The number of digits are: \",count)"
   ]
  },
  {
   "cell_type": "code",
   "execution_count": 1,
   "metadata": {},
   "outputs": [
    {
     "name": "stdout",
     "output_type": "stream",
     "text": [
      "[6, 12, 18]\n",
      "[4, 12, 20, 28]\n",
      "[6, 12, 18, 4, 12, 20, 28]\n"
     ]
    }
   ],
   "source": [
    "#Q6.given two lists. create a thrid list by picking an odd-index element from the first list and even index elements from the second\n",
    "#listone=[3,6,9,12,15,18,21]\n",
    "#listtwo=[4,8,12,16,20,24,28]\n",
    "list1=[3,6,9,12,15,18,21]\n",
    "list2=[4,8,12,16,20,24,28]\n",
    "list3=[]\n",
    "odd=list1[1::2]\n",
    "even=list2[0::2]\n",
    "print(odd)\n",
    "print(even)\n",
    "list3=odd+even\n",
    "print(list3)\n",
    "\n"
   ]
  },
  {
   "cell_type": "code",
   "execution_count": 23,
   "metadata": {},
   "outputs": [
    {
     "name": "stdout",
     "output_type": "stream",
     "text": [
      "Smallest number is :  -4\n"
     ]
    }
   ],
   "source": [
    "#Q7.program to get the smallest number from a list\n",
    "list=[1,4,7,-4,5]\n",
    "def smallest_num_in_list(list):\n",
    "    min = list[ 0 ]\n",
    "    for a in list:\n",
    "        if a < min:\n",
    "            min = a\n",
    "    return min\n",
    "list=smallest_num_in_list(list)\n",
    "print(\"Smallest number is : \",list)\n",
    "                       \n"
   ]
  },
  {
   "cell_type": "code",
   "execution_count": 24,
   "metadata": {},
   "outputs": [
    {
     "name": "stdout",
     "output_type": "stream",
     "text": [
      "Reverse :  [50, 4, 30, 20, 10]\n"
     ]
    }
   ],
   "source": [
    "#Q8.reverse the following list using for loop and range, list1[10,20,30,4,50]\n",
    "input_list=[10,20,30,4,50]\n",
    "def invertList(input_list): \n",
    "   for item in range(len(input_list)//2): \n",
    "      input_list[item], input_list[len(input_list)-1-item] = input_list[len(input_list)-1-item], input_list[item]\n",
    "   return input_list\n",
    "input_list = invertList(input_list)\n",
    "print(\"Reverse : \",input_list)\n"
   ]
  }
 ],
 "metadata": {
  "kernelspec": {
   "display_name": "Python 3",
   "language": "python",
   "name": "python3"
  },
  "language_info": {
   "codemirror_mode": {
    "name": "ipython",
    "version": 3
   },
   "file_extension": ".py",
   "mimetype": "text/x-python",
   "name": "python",
   "nbconvert_exporter": "python",
   "pygments_lexer": "ipython3",
   "version": "3.8.3"
  }
 },
 "nbformat": 4,
 "nbformat_minor": 4
}
